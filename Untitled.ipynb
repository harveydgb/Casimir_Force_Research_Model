{
 "cells": [
  {
   "cell_type": "code",
   "execution_count": null,
   "id": "6f7e9bbd",
   "metadata": {},
   "outputs": [],
   "source": [
    "#creating functions for each models\n",
    "\n",
    "def E_PFA(L,R):\n",
    "    \"\"\"PFA approximation energy\"\"\"\n",
    "    return -((np.pi**3)*scc.hbar*scc.c*R) / (1440*(L-(2*R))**2)\n",
    "\n",
    "#creating functions for model energys divided by PFA energy\n",
    "\n",
    "def E_CP(L,R):\n",
    "    \"\"\"Casimir Polder Force\"\"\"\n",
    "    E = -(scc.hbar*scc.c*(R**6)*143) / (16*np.pi*(L**7))\n",
    "    return E/E_PFA(L,R)\n",
    "\n",
    "def E_perfMetal(L,R):\n",
    "    \"\"\"Casimir  for a Perfect Metal\"\"\"\n",
    "    RL = R/L\n",
    "    k = -(scc.hbar*scc.c*(R**6)) / (np.pi*(L**7))\n",
    "    E = k*((143/16) + (7947/160)*(RL**2) + (2065/32)*(RL**3) + (27705347/100800)*(RL**4) + (-55251/64)*(RL**5) + \n",
    "           (1373212550401/144506880)*(RL**6) + (-7583389/320)*(RL**7) + (-2516749144274023/44508119040)*(RL**8) + \n",
    "           (274953589659739/275251200)*(RL**8))\n",
    "    return  E/E_PFA(L,R)\n",
    "\n",
    "def E_perfMetal4const(L,R):\n",
    "    \"\"\"Casimir  for a Perfect Metal with only the first 4 terms\"\"\"\n",
    "    RL = R/L\n",
    "    k = -(scc.hbar*scc.c*(R**6)) / (np.pi*(L**7))\n",
    "    E = k*((143/16) + (7947/160)*(RL**2) + (2065/32)*(RL**3))\n",
    "    return  E/E_PFA(L,R)\n",
    "\n",
    "def E_dielec(L,R,epsilon):\n",
    "    \"\"\"Casimir  for a Dielectric\"\"\"\n",
    "    RL = R/L\n",
    "    k = -(scc.hbar*scc.c*(R**6)) / (np.pi*(L**7))\n",
    "    E = k*((23/4)*((epsilon-1)/(epsilon+2))**2)\n",
    "    return  E/E_PFA(L,R)\n",
    "\n",
    "# values in terms of microns\n",
    "L = 100\n",
    "R = np.linspace(0.05,0.45,50)*L\n",
    "epsilon = 63.7\n",
    "\n",
    "\n",
    "#plotting the models\n",
    "fig, ax = plt.subplots(1,1, figsize=(4,4))\n",
    "ax.plot( R/L, E_CP(L,R),label='Casimir Polder')\n",
    "ax.plot(R/L, E_perfMetal(L,R),label='PEC Metal')\n",
    "ax.plot(R/L, E_perfMetal4const(L,R),label='PEC Metal, 4 terms')\n",
    "ax.plot(R/L, E_dielec(L,R,epsilon),label='Dielectric')\n",
    "ax.set_yscale('log')\n",
    "ax.set_ylabel(r'$E/E_{PFA}$')\n",
    "ax.set_xlabel('R/L')\n",
    "ax.set_ylim(0.00001,1)\n",
    "ax.legend()\n",
    "ax.grid()"
   ]
  }
 ],
 "metadata": {
  "kernelspec": {
   "display_name": "Python 3",
   "language": "python",
   "name": "python3"
  },
  "language_info": {
   "codemirror_mode": {
    "name": "ipython",
    "version": 3
   },
   "file_extension": ".py",
   "mimetype": "text/x-python",
   "name": "python",
   "nbconvert_exporter": "python",
   "pygments_lexer": "ipython3",
   "version": "3.8.8"
  }
 },
 "nbformat": 4,
 "nbformat_minor": 5
}
